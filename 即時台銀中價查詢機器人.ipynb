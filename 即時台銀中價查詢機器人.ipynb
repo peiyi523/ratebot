{
 "cells": [
  {
   "cell_type": "code",
   "execution_count": 1,
   "id": "42b987b0",
   "metadata": {},
   "outputs": [],
   "source": [
    "import pandas as pd\n",
    "import requests\n",
    "import time\n",
    "from bs4 import BeautifulSoup\n",
    "from selenium import webdriver\n",
    "from selenium.webdriver.chrome.service import Service\n",
    "from selenium.webdriver.common.by import By\n",
    "\n",
    "# from selenium.webdriver.support.ui import WebDriverWait\n",
    "# from selenium.webdriver.support import expected_conditions as EC"
   ]
  },
  {
   "cell_type": "code",
   "execution_count": 2,
   "id": "97351638",
   "metadata": {},
   "outputs": [
    {
     "data": {
      "text/plain": [
       "\"\\n這個寫法是可以讓網頁停留直到你要的特定資料出現為止\\nelement=WebDriverWait(chrome, 20).until(\\nEC.presence_of_element_located((By.XPATH, '/html/body/div[1]/main/div[4]/div/p[1]/a[1]'))).click()\\n要引入的套件有二個\\nfrom selenium.webdriver.support.ui import WebDriverWait\\nfrom selenium.webdriver.support import expected_conditions as EC\\n\""
      ]
     },
     "execution_count": 2,
     "metadata": {},
     "output_type": "execute_result"
    }
   ],
   "source": [
    "chrome = \"\"\n",
    "\n",
    "\n",
    "def get_chrome():\n",
    "    global chrome\n",
    "    chrome = webdriver.Chrome(service=Service(r\"C:\\webdriver\\chromedriver.exe\"))\n",
    "    chrome.get(\"https://rate.bot.com.tw/xrt?Lang=zh-TW\")\n",
    "    chrome.maximize_window()\n",
    "    time.sleep(5)\n",
    "    chrome.find_element(\n",
    "        by=By.XPATH, value=\"/html/body/div[1]/main/div[4]/div/p[1]/a[1]\"\n",
    "    ).click()\n",
    "    time.sleep(5)\n",
    "    soup = BeautifulSoup(chrome.page_source, \"lxml\")\n",
    "    return soup\n",
    "\n",
    "\n",
    "\"\"\"\n",
    "這個寫法是可以讓網頁停留直到你要的特定資料出現為止\n",
    "element=WebDriverWait(chrome, 20).until(\n",
    "EC.presence_of_element_located((By.XPATH, '/html/body/div[1]/main/div[4]/div/p[1]/a[1]'))).click()\n",
    "要引入的套件有二個\n",
    "from selenium.webdriver.support.ui import WebDriverWait\n",
    "from selenium.webdriver.support import expected_conditions as EC\n",
    "\"\"\""
   ]
  },
  {
   "cell_type": "code",
   "execution_count": 3,
   "id": "f67bebc1",
   "metadata": {},
   "outputs": [],
   "source": [
    "soup = get_chrome()"
   ]
  },
  {
   "cell_type": "code",
   "execution_count": 4,
   "id": "3da82cd3",
   "metadata": {},
   "outputs": [],
   "source": [
    "def replay_rate():\n",
    "    datas = []\n",
    "    for tr in soup.find(\"tbody\").find_all(\"tr\"):\n",
    "        data = []\n",
    "        for i, td in enumerate(tr.find_all(\"td\")[:5]):\n",
    "            if i == 0:\n",
    "                data.append(\n",
    "                    td.find(\n",
    "                        \"div\", class_=\"hidden-phone print_show xrt-cur-indent\"\n",
    "                    ).text.strip()\n",
    "                )\n",
    "            else:\n",
    "                data.append(td.text.strip())\n",
    "        if data != []:\n",
    "            datas.append([data[0], data[3], data[4]])\n",
    "            datas = [[0 if val == \"-\" else val for val in i] for i in datas]\n",
    "            datas = [\n",
    "                [\n",
    "                    item\n",
    "                    if idx == 0\n",
    "                    else float(item)\n",
    "                    if isinstance(item, str) and item.replace(\".\", \"\", 1).isdigit()\n",
    "                    else item\n",
    "                    for idx, item in enumerate(sublist)\n",
    "                ]\n",
    "                for sublist in datas\n",
    "            ]\n",
    "    df = pd.DataFrame(datas, columns=[\"幣別\", \"即期買入\", \"即期賣出\"])\n",
    "    df = df.iloc[:, [1, 2]].apply(pd.to_numeric, errors=\"coerce\")\n",
    "    average_values = df.mean(axis=1).round(5)\n",
    "    df[\"目前中價\"] = average_values\n",
    "    df.insert(\n",
    "        0,\n",
    "        \"幣別\",\n",
    "        [\n",
    "            \"美金\",\n",
    "            \"港幣\",\n",
    "            \"英鎊\",\n",
    "            \"澳幣\",\n",
    "            \"加拿大幣\",\n",
    "            \"新加坡幣\",\n",
    "            \"瑞士法郎\",\n",
    "            \"日圓\",\n",
    "            \"南非幣\",\n",
    "            \"瑞典幣\",\n",
    "            \"紐元\",\n",
    "            \"泰幣\",\n",
    "            \"菲國比索\",\n",
    "            \"印尼幣\",\n",
    "            \"歐元\",\n",
    "            \"韓元\",\n",
    "            \"越南盾\",\n",
    "            \"馬來幣\",\n",
    "            \"人民幣\",\n",
    "        ],\n",
    "    )\n",
    "    df.set_index(\"幣別\", inplace=True)\n",
    "    avg_rate = df.to_dict(\"index\")\n",
    "    chrome.close()\n",
    "    return avg_rate"
   ]
  },
  {
   "cell_type": "code",
   "execution_count": 5,
   "id": "289e5017",
   "metadata": {},
   "outputs": [
    {
     "data": {
      "text/plain": [
       "{'美金': {'即期買入': 31.235, '即期賣出': 31.385, '目前中價': 31.31},\n",
       " '港幣': {'即期買入': 3.98, '即期賣出': 4.05, '目前中價': 4.015},\n",
       " '英鎊': {'即期買入': 39.335, '即期賣出': 39.965, '目前中價': 39.65},\n",
       " '澳幣': {'即期買入': 20.895, '即期賣出': 21.24, '目前中價': 21.0675},\n",
       " '加拿大幣': {'即期買入': 23.28, '即期賣出': 23.61, '目前中價': 23.445},\n",
       " '新加坡幣': {'即期買入': 23.41, '即期賣出': 23.63, '目前中價': 23.52},\n",
       " '瑞士法郎': {'即期買入': 35.91, '即期賣出': 36.3, '目前中價': 36.105},\n",
       " '日圓': {'即期買入': 0.2169, '即期賣出': 0.2219, '目前中價': 0.2194},\n",
       " '南非幣': {'即期買入': 1.652, '即期賣出': 1.742, '目前中價': 1.697},\n",
       " '瑞典幣': {'即期買入': 3.01, '即期賣出': 3.13, '目前中價': 3.07},\n",
       " '紐元': {'即期買入': 19.37, '即期賣出': 19.67, '目前中價': 19.52},\n",
       " '泰幣': {'即期買入': 0.8763, '即期賣出': 0.9223, '目前中價': 0.8993},\n",
       " '菲國比索': {'即期買入': 0.0, '即期賣出': 0.0, '目前中價': 0.0},\n",
       " '印尼幣': {'即期買入': 0.0, '即期賣出': 0.0, '目前中價': 0.0},\n",
       " '歐元': {'即期買入': 33.865, '即期賣出': 34.465, '目前中價': 34.165},\n",
       " '韓元': {'即期買入': 0.0, '即期賣出': 0.0, '目前中價': 0.0},\n",
       " '越南盾': {'即期買入': 0.0, '即期賣出': 0.0, '目前中價': 0.0},\n",
       " '馬來幣': {'即期買入': 0.0, '即期賣出': 0.0, '目前中價': 0.0},\n",
       " '人民幣': {'即期買入': 4.359, '即期賣出': 4.419, '目前中價': 4.389}}"
      ]
     },
     "execution_count": 5,
     "metadata": {},
     "output_type": "execute_result"
    }
   ],
   "source": [
    "replay_rate()"
   ]
  },
  {
   "cell_type": "code",
   "execution_count": null,
   "id": "368a6a0a",
   "metadata": {},
   "outputs": [],
   "source": []
  },
  {
   "cell_type": "code",
   "execution_count": null,
   "id": "c970a8d4",
   "metadata": {},
   "outputs": [],
   "source": []
  },
  {
   "cell_type": "code",
   "execution_count": null,
   "id": "e321c686",
   "metadata": {},
   "outputs": [],
   "source": []
  },
  {
   "cell_type": "code",
   "execution_count": null,
   "id": "9db6a3c3",
   "metadata": {},
   "outputs": [],
   "source": []
  },
  {
   "cell_type": "code",
   "execution_count": null,
   "id": "10ce0b87",
   "metadata": {},
   "outputs": [],
   "source": []
  },
  {
   "cell_type": "code",
   "execution_count": null,
   "id": "9301f049",
   "metadata": {},
   "outputs": [],
   "source": []
  }
 ],
 "metadata": {
  "kernelspec": {
   "display_name": "Python 3 (ipykernel)",
   "language": "python",
   "name": "python3"
  },
  "language_info": {
   "codemirror_mode": {
    "name": "ipython",
    "version": 3
   },
   "file_extension": ".py",
   "mimetype": "text/x-python",
   "name": "python",
   "nbconvert_exporter": "python",
   "pygments_lexer": "ipython3",
   "version": "3.9.7"
  }
 },
 "nbformat": 4,
 "nbformat_minor": 5
}
